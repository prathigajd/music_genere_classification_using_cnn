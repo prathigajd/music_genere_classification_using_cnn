{
 "cells": [
  {
   "cell_type": "code",
   "execution_count": null,
   "metadata": {
    "_cell_guid": "b1076dfc-b9ad-4769-8c92-a6c4dae69d19",
    "_uuid": "8f2839f25d086af736a60e9eeb907d3b93b6e0e5",
    "execution": {
     "iopub.execute_input": "2021-08-09T16:31:26.568724Z",
     "iopub.status.busy": "2021-08-09T16:31:26.568157Z",
     "iopub.status.idle": "2021-08-09T16:31:27.506173Z",
     "shell.execute_reply": "2021-08-09T16:31:27.505284Z",
     "shell.execute_reply.started": "2021-08-09T16:31:26.568594Z"
    },
    "scrolled": true
   },
   "outputs": [],
   "source": [
    "import numpy as np \n",
    "import pandas as pd\n",
    "\n",
    "\n",
    "import os\n",
    "for dirname, _, filenames in os.walk('input'):\n",
    "    for filename in filenames:\n",
    "        print(os.path.join(dirname, filename))\n"
   ]
  },
  {
   "cell_type": "markdown",
   "metadata": {},
   "source": [
    "We have genres :\n",
    "* Rock\n",
    "* Clasical\n",
    "* Disco\n",
    "* Hip-Hop\n",
    "* Jazz\n",
    "* Blues\n",
    "* Metal\n",
    "* Pop\n",
    "* Country\n",
    "* Reggae (hearing this first time :P)\n",
    "\n",
    "Total 10"
   ]
  },
  {
   "cell_type": "code",
   "execution_count": null,
   "metadata": {
    "execution": {
     "iopub.execute_input": "2021-08-09T17:21:00.571946Z",
     "iopub.status.busy": "2021-08-09T17:21:00.571595Z",
     "iopub.status.idle": "2021-08-09T17:21:00.579255Z",
     "shell.execute_reply": "2021-08-09T17:21:00.578556Z",
     "shell.execute_reply.started": "2021-08-09T17:21:00.571913Z"
    }
   },
   "outputs": [],
   "source": [
    "\n",
    "import matplotlib.pyplot as plt\n",
    "import scipy\n",
    "import librosa\n",
    "import librosa.display\n",
    "import IPython.display as ipd\n",
    "from sklearn.model_selection import train_test_split\n",
    "from sklearn.preprocessing import LabelEncoder\n",
    "import tensorflow as tf\n",
    "from tensorflow import keras\n",
    "import pickle # model pickling for future use"
   ]
  },
  {
   "cell_type": "markdown",
   "metadata": {},
   "source": [
    "# Loading Datasets"
   ]
  },
  {
   "cell_type": "code",
   "execution_count": null,
   "metadata": {
    "execution": {
     "iopub.execute_input": "2021-08-09T16:52:32.7425Z",
     "iopub.status.busy": "2021-08-09T16:52:32.742157Z",
     "iopub.status.idle": "2021-08-09T16:52:32.926517Z",
     "shell.execute_reply": "2021-08-09T16:52:32.925602Z",
     "shell.execute_reply.started": "2021-08-09T16:52:32.74247Z"
    }
   },
   "outputs": [],
   "source": [
    "# Loading dataset\n",
    "# we have 2 CSVs here, one containing features for 30 sec audio file, mean & variance for diff features we have, then\n",
    "# and one for 3 sec audio files. I will be using 3 sec audio\n",
    "dataf = pd.read_csv(\"../input/gtzan-dataset-music-genre-classification/Data/features_3_sec.csv\")\n",
    "dataf.head()"
   ]
  },
  {
   "cell_type": "code",
   "execution_count": null,
   "metadata": {
    "execution": {
     "iopub.execute_input": "2021-08-09T16:52:33.287582Z",
     "iopub.status.busy": "2021-08-09T16:52:33.287238Z",
     "iopub.status.idle": "2021-08-09T16:52:33.311553Z",
     "shell.execute_reply": "2021-08-09T16:52:33.310435Z",
     "shell.execute_reply.started": "2021-08-09T16:52:33.287554Z"
    }
   },
   "outputs": [],
   "source": [
    "dataf.tail()"
   ]
  },
  {
   "cell_type": "code",
   "execution_count": null,
   "metadata": {
    "execution": {
     "iopub.execute_input": "2021-08-09T16:52:55.223377Z",
     "iopub.status.busy": "2021-08-09T16:52:55.22302Z",
     "iopub.status.idle": "2021-08-09T16:52:55.228512Z",
     "shell.execute_reply": "2021-08-09T16:52:55.227757Z",
     "shell.execute_reply.started": "2021-08-09T16:52:55.223347Z"
    }
   },
   "outputs": [],
   "source": [
    "dataf.shape"
   ]
  },
  {
   "cell_type": "code",
   "execution_count": null,
   "metadata": {
    "execution": {
     "iopub.execute_input": "2021-08-09T16:53:17.188492Z",
     "iopub.status.busy": "2021-08-09T16:53:17.18797Z",
     "iopub.status.idle": "2021-08-09T16:53:17.33548Z",
     "shell.execute_reply": "2021-08-09T16:53:17.334571Z",
     "shell.execute_reply.started": "2021-08-09T16:53:17.18845Z"
    }
   },
   "outputs": [],
   "source": [
    "dataf.describe()"
   ]
  },
  {
   "cell_type": "code",
   "execution_count": null,
   "metadata": {
    "execution": {
     "iopub.execute_input": "2021-08-09T17:39:29.122143Z",
     "iopub.status.busy": "2021-08-09T17:39:29.121762Z",
     "iopub.status.idle": "2021-08-09T17:39:29.131609Z",
     "shell.execute_reply": "2021-08-09T17:39:29.130327Z",
     "shell.execute_reply.started": "2021-08-09T17:39:29.122102Z"
    }
   },
   "outputs": [],
   "source": [
    "# removing filename column\n",
    "dataf = dataf.drop(labels='filename',axis=1)"
   ]
  },
  {
   "cell_type": "code",
   "execution_count": null,
   "metadata": {
    "execution": {
     "iopub.execute_input": "2021-08-09T17:39:30.646884Z",
     "iopub.status.busy": "2021-08-09T17:39:30.646544Z",
     "iopub.status.idle": "2021-08-09T17:39:30.687998Z",
     "shell.execute_reply": "2021-08-09T17:39:30.686825Z",
     "shell.execute_reply.started": "2021-08-09T17:39:30.646854Z"
    }
   },
   "outputs": [],
   "source": [
    "# looking into what i have \n",
    "sample_audio = \"../input/gtzan-dataset-music-genre-classification/Data/genres_original/pop/pop.00003.wav\"\n",
    "sample, sample_rate = librosa.load(sample_audio)\n",
    "\n",
    "\n",
    "ipd.Audio(sample, rate=sample_rate)"
   ]
  },
  {
   "cell_type": "code",
   "execution_count": null,
   "metadata": {
    "execution": {
     "iopub.execute_input": "2021-08-09T17:39:30.941868Z",
     "iopub.status.busy": "2021-08-09T17:39:30.941522Z",
     "iopub.status.idle": "2021-08-09T17:39:31.568921Z",
     "shell.execute_reply": "2021-08-09T17:39:31.568026Z",
     "shell.execute_reply.started": "2021-08-09T17:39:30.941836Z"
    }
   },
   "outputs": [],
   "source": [
    "sample, sample_rate = librosa.load(sample_audio, sr=16000)\n",
    "print(len(sample),sample_rate)"
   ]
  },
  {
   "cell_type": "code",
   "execution_count": null,
   "metadata": {
    "execution": {
     "iopub.execute_input": "2021-08-09T17:39:31.570697Z",
     "iopub.status.busy": "2021-08-09T17:39:31.570427Z",
     "iopub.status.idle": "2021-08-09T17:39:32.392984Z",
     "shell.execute_reply": "2021-08-09T17:39:32.392141Z",
     "shell.execute_reply.started": "2021-08-09T17:39:31.57067Z"
    }
   },
   "outputs": [],
   "source": [
    "print(type(sample),sample_rate)\n",
    "sample, sample_rate = librosa.load(sample_audio, sr=16000)\n",
    "\n",
    "# plotting raw wave Files, here it is for Pop genre\n",
    "fig = plt.figure(figsize=(14,6))\n",
    "ax1 = fig.add_subplot(211)\n",
    "ax1.set_title(\"../input/gtzan-dataset-music-genre-classification/Data/genres_original/pop/pop.00003.wav\")\n",
    "ax1.set_xlabel('time')\n",
    "ax1.set_ylabel('Amptitude')\n",
    "librosa.display.waveplot(sample)\n",
    "plt.show()"
   ]
  },
  {
   "cell_type": "code",
   "execution_count": null,
   "metadata": {
    "execution": {
     "iopub.execute_input": "2021-08-09T17:39:32.394827Z",
     "iopub.status.busy": "2021-08-09T17:39:32.394562Z",
     "iopub.status.idle": "2021-08-09T17:39:33.588631Z",
     "shell.execute_reply": "2021-08-09T17:39:33.587535Z",
     "shell.execute_reply.started": "2021-08-09T17:39:32.394799Z"
    }
   },
   "outputs": [],
   "source": [
    "# Spectrogram, we have this in images folder\n",
    "# way of representing signal loudness at diff freq\n",
    "# also known as Sonographs\n",
    "# when data is 3D then waterfall\n",
    "\n",
    "stft = librosa.stft(sample)\n",
    "stft_db = librosa.amplitude_to_db(abs(stft))\n",
    "plt.figure(figsize=(14,6))\n",
    "librosa.display.specshow(stft,sr=sample_rate,x_axis='time',y_axis='hz')\n",
    "plt.colorbar()"
   ]
  },
  {
   "cell_type": "code",
   "execution_count": null,
   "metadata": {
    "execution": {
     "iopub.execute_input": "2021-08-09T17:39:33.590378Z",
     "iopub.status.busy": "2021-08-09T17:39:33.590086Z",
     "iopub.status.idle": "2021-08-09T17:39:34.754823Z",
     "shell.execute_reply": "2021-08-09T17:39:34.753852Z",
     "shell.execute_reply.started": "2021-08-09T17:39:33.59035Z"
    }
   },
   "outputs": [],
   "source": [
    "stft = librosa.stft(sample)\n",
    "stft_db = librosa.amplitude_to_db(abs(stft))\n",
    "plt.figure(figsize=(14,6))\n",
    "librosa.display.specshow(stft_db,sr=sample_rate,x_axis='time',y_axis='hz')\n",
    "plt.colorbar()"
   ]
  },
  {
   "cell_type": "code",
   "execution_count": null,
   "metadata": {
    "execution": {
     "iopub.execute_input": "2021-08-09T17:39:34.756365Z",
     "iopub.status.busy": "2021-08-09T17:39:34.756104Z",
     "iopub.status.idle": "2021-08-09T17:39:35.448995Z",
     "shell.execute_reply": "2021-08-09T17:39:35.447932Z",
     "shell.execute_reply.started": "2021-08-09T17:39:34.756338Z"
    }
   },
   "outputs": [],
   "source": [
    "# Rolloff - feq below which a specified percentage of the total spectral lies / 85%\n",
    "from sklearn.preprocessing import normalize\n",
    "\n",
    "spectral_rolloff = librosa.feature.spectral_rolloff(sample+0.01,sr=sample_rate)[0]\n",
    "plt.figure(figsize=(14,6))\n",
    "librosa.display.waveplot(sample,sr=sample_rate,alpha=0.3)"
   ]
  },
  {
   "cell_type": "code",
   "execution_count": null,
   "metadata": {
    "execution": {
     "iopub.execute_input": "2021-08-09T17:39:35.450868Z",
     "iopub.status.busy": "2021-08-09T17:39:35.450513Z",
     "iopub.status.idle": "2021-08-09T17:39:35.647775Z",
     "shell.execute_reply": "2021-08-09T17:39:35.646675Z",
     "shell.execute_reply.started": "2021-08-09T17:39:35.450832Z"
    }
   },
   "outputs": [],
   "source": [
    "# Zero crossing \n",
    "plt.figure(figsize=(14,6))\n",
    "plt.plot(sample[8000:12000])\n",
    "plt.grid()"
   ]
  },
  {
   "cell_type": "code",
   "execution_count": null,
   "metadata": {
    "execution": {
     "iopub.execute_input": "2021-08-09T17:39:35.649753Z",
     "iopub.status.busy": "2021-08-09T17:39:35.649371Z",
     "iopub.status.idle": "2021-08-09T17:39:35.664605Z",
     "shell.execute_reply": "2021-08-09T17:39:35.663588Z",
     "shell.execute_reply.started": "2021-08-09T17:39:35.64971Z"
    }
   },
   "outputs": [],
   "source": [
    "#count\n",
    "zero_cross = librosa.zero_crossings(sample[8000:12000],pad=False)\n",
    "print(\"Count {}\".format(sum(zero_cross)))"
   ]
  },
  {
   "cell_type": "markdown",
   "metadata": {},
   "source": [
    "# Feature Extraction"
   ]
  },
  {
   "cell_type": "code",
   "execution_count": null,
   "metadata": {
    "execution": {
     "iopub.execute_input": "2021-08-09T17:41:49.516896Z",
     "iopub.status.busy": "2021-08-09T17:41:49.516426Z",
     "iopub.status.idle": "2021-08-09T17:41:49.521596Z",
     "shell.execute_reply": "2021-08-09T17:41:49.520834Z",
     "shell.execute_reply.started": "2021-08-09T17:41:49.516867Z"
    }
   },
   "outputs": [],
   "source": [
    "class_list = dataf.iloc[:,-1] \n",
    "convert = LabelEncoder()"
   ]
  },
  {
   "cell_type": "code",
   "execution_count": null,
   "metadata": {
    "execution": {
     "iopub.execute_input": "2021-08-09T17:42:28.258756Z",
     "iopub.status.busy": "2021-08-09T17:42:28.258436Z",
     "iopub.status.idle": "2021-08-09T17:42:28.266087Z",
     "shell.execute_reply": "2021-08-09T17:42:28.26509Z",
     "shell.execute_reply.started": "2021-08-09T17:42:28.258727Z"
    }
   },
   "outputs": [],
   "source": [
    "y = convert.fit_transform(class_list)\n",
    "y"
   ]
  },
  {
   "cell_type": "code",
   "execution_count": null,
   "metadata": {
    "execution": {
     "iopub.execute_input": "2021-08-09T17:42:53.401675Z",
     "iopub.status.busy": "2021-08-09T17:42:53.401345Z",
     "iopub.status.idle": "2021-08-09T17:42:53.43527Z",
     "shell.execute_reply": "2021-08-09T17:42:53.434599Z",
     "shell.execute_reply.started": "2021-08-09T17:42:53.401647Z"
    }
   },
   "outputs": [],
   "source": [
    "dataf.iloc[:,:-1]"
   ]
  },
  {
   "cell_type": "code",
   "execution_count": null,
   "metadata": {
    "execution": {
     "iopub.execute_input": "2021-08-09T17:45:16.802971Z",
     "iopub.status.busy": "2021-08-09T17:45:16.802484Z",
     "iopub.status.idle": "2021-08-09T17:45:16.825322Z",
     "shell.execute_reply": "2021-08-09T17:45:16.824344Z",
     "shell.execute_reply.started": "2021-08-09T17:45:16.802938Z"
    }
   },
   "outputs": [],
   "source": [
    "# scaling features\n",
    "from sklearn.preprocessing import StandardScaler\n",
    "fit = StandardScaler()\n",
    "X = fit.fit_transform(np.array(dataf.iloc[:,:-1],dtype=float))"
   ]
  },
  {
   "cell_type": "code",
   "execution_count": null,
   "metadata": {
    "execution": {
     "iopub.execute_input": "2021-08-09T17:46:16.112865Z",
     "iopub.status.busy": "2021-08-09T17:46:16.112402Z",
     "iopub.status.idle": "2021-08-09T17:46:16.124406Z",
     "shell.execute_reply": "2021-08-09T17:46:16.123373Z",
     "shell.execute_reply.started": "2021-08-09T17:46:16.112828Z"
    }
   },
   "outputs": [],
   "source": [
    "# dividing into training and test Data\n",
    "X_train,x_test, Y_train, y_test = train_test_split(X,y,test_size=0.2)"
   ]
  },
  {
   "cell_type": "code",
   "execution_count": null,
   "metadata": {
    "execution": {
     "iopub.execute_input": "2021-08-09T17:46:54.097187Z",
     "iopub.status.busy": "2021-08-09T17:46:54.096821Z",
     "iopub.status.idle": "2021-08-09T17:46:54.102512Z",
     "shell.execute_reply": "2021-08-09T17:46:54.101427Z",
     "shell.execute_reply.started": "2021-08-09T17:46:54.097154Z"
    }
   },
   "outputs": [],
   "source": [
    "print(len(Y_train),len(y_test))"
   ]
  },
  {
   "cell_type": "markdown",
   "metadata": {},
   "source": [
    "# Model Building"
   ]
  },
  {
   "cell_type": "code",
   "execution_count": null,
   "metadata": {
    "execution": {
     "iopub.execute_input": "2021-08-09T18:05:59.642728Z",
     "iopub.status.busy": "2021-08-09T18:05:59.642368Z",
     "iopub.status.idle": "2021-08-09T18:05:59.648851Z",
     "shell.execute_reply": "2021-08-09T18:05:59.647381Z",
     "shell.execute_reply.started": "2021-08-09T18:05:59.642695Z"
    }
   },
   "outputs": [],
   "source": [
    "# Using CNN algorithm\n",
    "from keras.models import Sequential\n",
    "from keras.layers import Dense,Activation,Dropout\n",
    "from keras.callbacks import EarlyStopping, ModelCheckpoint"
   ]
  },
  {
   "cell_type": "code",
   "execution_count": null,
   "metadata": {
    "execution": {
     "iopub.execute_input": "2021-08-09T18:15:06.871655Z",
     "iopub.status.busy": "2021-08-09T18:15:06.871317Z",
     "iopub.status.idle": "2021-08-09T18:15:06.938046Z",
     "shell.execute_reply": "2021-08-09T18:15:06.936941Z",
     "shell.execute_reply.started": "2021-08-09T18:15:06.871624Z"
    }
   },
   "outputs": [],
   "source": [
    "# building model\n",
    "\n",
    "model = Sequential()\n",
    "\n",
    "model.add(Dense(512,input_shape=(X_train.shape[1],),activation='relu'))\n",
    "model.add(Dropout(0.2))\n",
    "\n",
    "model.add(Dense(256,activation='relu'))\n",
    "model.add(Dropout(0.2))\n",
    "\n",
    "model.add(Dense(128,activation='relu'))\n",
    "model.add(Dropout(0.2))\n",
    "\n",
    "model.add(Dense(64,activation='relu'))\n",
    "model.add(Dropout(0.2))\n",
    "\n",
    "model.add(Dense(10,activation='softmax'))\n",
    "\n",
    "\n",
    "model.summary()"
   ]
  },
  {
   "cell_type": "code",
   "execution_count": null,
   "metadata": {
    "execution": {
     "iopub.execute_input": "2021-08-09T18:17:47.539096Z",
     "iopub.status.busy": "2021-08-09T18:17:47.538652Z",
     "iopub.status.idle": "2021-08-09T18:17:47.551542Z",
     "shell.execute_reply": "2021-08-09T18:17:47.550699Z",
     "shell.execute_reply.started": "2021-08-09T18:17:47.539043Z"
    }
   },
   "outputs": [],
   "source": [
    "model.compile(loss='sparse_categorical_crossentropy',optimizer='adam',metrics='accuracy')"
   ]
  },
  {
   "cell_type": "code",
   "execution_count": null,
   "metadata": {
    "execution": {
     "iopub.execute_input": "2021-08-09T18:18:24.682561Z",
     "iopub.status.busy": "2021-08-09T18:18:24.682224Z",
     "iopub.status.idle": "2021-08-09T18:18:24.687587Z",
     "shell.execute_reply": "2021-08-09T18:18:24.686538Z",
     "shell.execute_reply.started": "2021-08-09T18:18:24.68253Z"
    }
   },
   "outputs": [],
   "source": [
    "earlystop = EarlyStopping(monitor='val_loss',mode='min',verbose=1,patience=10,min_delta=0.0001)\n",
    "modelcheck = ModelCheckpoint('best_model.hdf5',monitor='val_accuracy',verbose=1,save_best_only=True,mode='max')"
   ]
  },
  {
   "cell_type": "code",
   "execution_count": null,
   "metadata": {
    "execution": {
     "iopub.execute_input": "2021-08-09T18:19:58.428369Z",
     "iopub.status.busy": "2021-08-09T18:19:58.427936Z",
     "iopub.status.idle": "2021-08-09T18:20:03.533613Z",
     "shell.execute_reply": "2021-08-09T18:20:03.532554Z",
     "shell.execute_reply.started": "2021-08-09T18:19:58.428323Z"
    },
    "scrolled": true
   },
   "outputs": [],
   "source": [
    "history = model.fit(X_train,Y_train, validation_data=(x_test,y_test), epochs=600, callbacks=[earlystop,modelcheck], batch_size=128)"
   ]
  },
  {
   "cell_type": "code",
   "execution_count": null,
   "metadata": {
    "execution": {
     "iopub.execute_input": "2021-08-09T18:19:00.453454Z",
     "iopub.status.busy": "2021-08-09T18:19:00.453118Z",
     "iopub.status.idle": "2021-08-09T18:19:00.604233Z",
     "shell.execute_reply": "2021-08-09T18:19:00.60332Z",
     "shell.execute_reply.started": "2021-08-09T18:19:00.453421Z"
    }
   },
   "outputs": [],
   "source": [
    "from matplotlib import pyplot \n",
    "pyplot.plot(history.history['loss'], label='train') \n",
    "pyplot.plot(history.history['val_loss'], label='test') \n",
    "pyplot.legend()\n",
    "pyplot.show()"
   ]
  },
  {
   "cell_type": "code",
   "execution_count": null,
   "metadata": {
    "execution": {
     "iopub.execute_input": "2021-08-09T18:22:51.024757Z",
     "iopub.status.busy": "2021-08-09T18:22:51.024402Z",
     "iopub.status.idle": "2021-08-09T18:22:51.131415Z",
     "shell.execute_reply": "2021-08-09T18:22:51.130539Z",
     "shell.execute_reply.started": "2021-08-09T18:22:51.024726Z"
    },
    "scrolled": true
   },
   "outputs": [],
   "source": [
    "#from keras.models import load_model\n",
    "#Model = load_model(\"./best_model.hdf5\")"
   ]
  },
  {
   "cell_type": "code",
   "execution_count": null,
   "metadata": {
    "execution": {
     "iopub.execute_input": "2021-08-09T18:26:05.159496Z",
     "iopub.status.busy": "2021-08-09T18:26:05.158968Z",
     "iopub.status.idle": "2021-08-09T18:26:05.239496Z",
     "shell.execute_reply": "2021-08-09T18:26:05.238595Z",
     "shell.execute_reply.started": "2021-08-09T18:26:05.159449Z"
    }
   },
   "outputs": [],
   "source": [
    "test_loss, test_accuracy = model.evaluate(x_test,y_test,batch_size=128)\n",
    "print(\"Test loss : \",test_loss)\n",
    "print(\"\\nBest test accuracy : \",test_accuracy*100)"
   ]
  },
  {
   "cell_type": "code",
   "execution_count": null,
   "metadata": {},
   "outputs": [],
   "source": []
  }
 ],
 "metadata": {
  "kernelspec": {
   "display_name": "Python 3 (ipykernel)",
   "language": "python",
   "name": "python3"
  },
  "language_info": {
   "codemirror_mode": {
    "name": "ipython",
    "version": 3
   },
   "file_extension": ".py",
   "mimetype": "text/x-python",
   "name": "python",
   "nbconvert_exporter": "python",
   "pygments_lexer": "ipython3",
   "version": "3.9.13"
  }
 },
 "nbformat": 4,
 "nbformat_minor": 4
}
